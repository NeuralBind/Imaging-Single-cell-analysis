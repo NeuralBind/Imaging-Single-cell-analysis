{
 "cells": [
  {
   "cell_type": "code",
   "execution_count": null,
   "id": "b3e115db",
   "metadata": {},
   "outputs": [
    {
     "name": "stdout",
     "output_type": "stream",
     "text": [
      "Big-FISH version: 0.6.2\n"
     ]
    }
   ],
   "source": [
    "import os\n",
    "import numpy as np\n",
    "import bigfish\n",
    "import bigfish.stack as stack\n",
    "import bigfish.detection as detection\n",
    "import bigfish.multistack as multistack\n",
    "import bigfish.plot as plot\n",
    "print(\"Big-FISH version: {0}\".format(bigfish.__version__))\n",
    "import matplotlib.pyplot as plt\n",
    "from PIL import Image\n",
    "from skimage import io, measure, color, transform\n",
    "import napari \n",
    "from src.translate_plugin import translate\n",
    "from matplotlib_venn import venn2\n",
    "import math\n",
    "from skimage.measure import regionprops\n",
    "import seaborn as sns\n",
    "import matplotlib.patches as patches"
   ]
  },
  {
   "cell_type": "code",
   "execution_count": null,
   "id": "35c38f6a",
   "metadata": {},
   "outputs": [],
   "source": [
    "def detect_spots(channel, spot_radius_px, manual_threshold):\n",
    "    \n",
    "    # Local maximum detection\n",
    "    mask = detection.local_maximum_detection(channel, min_distance=spot_radius_px)\n",
    "    \n",
    "    # If a manual threshold is provided, use it otherwise, use automated_threshold_setting\n",
    "    if manual_threshold is not None:\n",
    "        threshold = manual_threshold\n",
    "    else:\n",
    "        threshold = detection.automated_threshold_setting(channel, mask)\n",
    "    \n",
    "    # Thresholding\n",
    "    spots, _ = detection.spots_thresholding(channel, mask, threshold)\n",
    "    \n",
    "    return spots.astype(np.uint16), threshold"
   ]
  },
  {
   "cell_type": "code",
   "execution_count": null,
   "id": "d3e07ac5",
   "metadata": {},
   "outputs": [],
   "source": [
    "# Load f channels and segm mask from cellpose GLU1,2 SUCR1,2 \n",
    "image = io.imread(\"E:/FLO8_PP7/FLO8_PP7_1_CY35CY3.tif\") # add the image path\n",
    "\n"
   ]
  },
  {
   "cell_type": "code",
   "execution_count": null,
   "id": "c98953ac",
   "metadata": {},
   "outputs": [
    {
     "data": {
      "text/plain": [
       "(38, 2, 2304, 2304)"
      ]
     },
     "execution_count": 4,
     "metadata": {},
     "output_type": "execute_result"
    }
   ],
   "source": [
    "image.shape"
   ]
  },
  {
   "cell_type": "code",
   "execution_count": null,
   "id": "bd007dfc",
   "metadata": {},
   "outputs": [],
   "source": [
    "# split the channels and add a segmentation mask if needed\n",
    "flo8 = image[:,0,:,:]\n",
    "pp7 = image[:,1,:,:]\n",
    "\n"
   ]
  },
  {
   "cell_type": "code",
   "execution_count": null,
   "id": "8d3ad9c7",
   "metadata": {},
   "outputs": [
    {
     "data": {
      "text/plain": [
       "(38, 2304, 2304)"
      ]
     },
     "execution_count": 6,
     "metadata": {},
     "output_type": "execute_result"
    }
   ],
   "source": [
    "flo8.shape\n",
    "pp7.shape"
   ]
  },
  {
   "cell_type": "code",
   "execution_count": null,
   "id": "f0903ec3",
   "metadata": {},
   "outputs": [
    {
     "data": {
      "text/plain": [
       "<Image layer 'pp7' at 0x25bdd166e30>"
      ]
     },
     "execution_count": 7,
     "metadata": {},
     "output_type": "execute_result"
    }
   ],
   "source": [
    "# Observe in focus channels\n",
    "# viewer = napari.Viewer()\n",
    "# viewer.add_image(flo8, name='FLO8')\n",
    "# viewer.add_image(pp7, name='pp7')"
   ]
  },
  {
   "cell_type": "code",
   "execution_count": null,
   "id": "f95d2c6d",
   "metadata": {},
   "outputs": [],
   "source": [
    "# Define the clean in focus slices range \n",
    "start, end = 7, 22 \n",
    "flo8_focus = flo8[start:end, :, :]\n",
    "pp7_focus = pp7[start:end, :, :]"
   ]
  },
  {
   "cell_type": "code",
   "execution_count": null,
   "id": "ced51af9",
   "metadata": {},
   "outputs": [
    {
     "name": "stdout",
     "output_type": "stream",
     "text": [
      "(4.0, 2.6153846153846154, 2.6153846153846154)\n"
     ]
    }
   ],
   "source": [
    "# translate the spot radius  to pixels\n",
    "spot_radius_px = detection.get_object_radius_pixel(\n",
    "    voxel_size_nm=(200, 65, 65),  # in nanometer (one value per dimension; z=microscopy step, (y,x)= microscope voxel size)\n",
    "    object_radius_nm=(800, 170, 170),  # each spot is 3x3  radius\n",
    "    ndim=3)\n",
    "print(spot_radius_px)"
   ]
  },
  {
   "cell_type": "code",
   "execution_count": null,
   "id": "094687d3",
   "metadata": {},
   "outputs": [],
   "source": [
    "# Laplacian of Gaussian filtering of the channels\n",
    "flo8_log = stack.log_filter(flo8_focus, sigma=spot_radius_px)\n",
    "pp7_log = stack.log_filter(pp7_focus, sigma=spot_radius_px)"
   ]
  },
  {
   "cell_type": "code",
   "execution_count": null,
   "id": "75ed1bb5",
   "metadata": {},
   "outputs": [],
   "source": [
    "# viewer = napari.Viewer()\n",
    "# viewer.add_image(flo8_log, name='FLO8_log')\n",
    "# viewer.add_image(pp7_log, name='PP7_log')"
   ]
  },
  {
   "cell_type": "markdown",
   "id": "49095cbc",
   "metadata": {},
   "source": [
    "# Spot detection"
   ]
  },
  {
   "cell_type": "code",
   "execution_count": null,
   "id": "78124b51",
   "metadata": {},
   "outputs": [],
   "source": [
    "### CHANGE THE DIRECTORY PER EXPeriment, save the spots for further analysis if needed\n",
    "directory = \"E:/FLO8_PP7/spots\"\n",
    "os.makedirs(directory, exist_ok=True)"
   ]
  },
  {
   "cell_type": "code",
   "execution_count": null,
   "id": "376f2041",
   "metadata": {},
   "outputs": [
    {
     "name": "stdout",
     "output_type": "stream",
     "text": [
      "detected flo8 spots\n",
      "\r\n",
      " shape: (558, 3)\n",
      "\r\n",
      " threshold: 40\n"
     ]
    }
   ],
   "source": [
    "# flo8 spot detecttion, uncomment the saving commands if needed\n",
    "x= 10 #threshold1, add a low threshold number and we are going to filter it out later\n",
    "spots1, threshold1 = detect_spots(flo8_log, spot_radius_px,x) \n",
    "#spots1 = spots1.astype(np.int64)\n",
    "print(\"detected flo8 spots\")\n",
    "print(\"\\r shape: {0}\".format(spots1.shape))\n",
    "print(\"\\r threshold: {0}\".format(threshold1))\n",
    "#np.save('spots\\exp3_processed_flo8.npy', spots1) #change the name"
   ]
  },
  {
   "cell_type": "code",
   "execution_count": null,
   "id": "cdb155ce",
   "metadata": {},
   "outputs": [
    {
     "name": "stdout",
     "output_type": "stream",
     "text": [
      "detected flo8 spots\n",
      "\r\n",
      " shape: (630, 3)\n",
      "\r\n",
      " threshold: 45\n"
     ]
    }
   ],
   "source": [
    "# PP7 spot detecttion, uncomment the saving commands if needed\n",
    "y= 10 #threshold2,  add a low threshold number and we are going to filter it out later\n",
    "spots2, threshold2 = detect_spots(pp7_log, spot_radius_px,y)  \n",
    "#spots1 = spots1.astype(np.int64)\n",
    "print(\"detected flo8 spots\")\n",
    "print(\"\\r shape: {0}\".format(spots2.shape))\n",
    "print(\"\\r threshold: {0}\".format(threshold2))\n",
    "#np.save('spots\\exp3_processed_pp7.npy', spots2) # change the name"
   ]
  },
  {
   "cell_type": "code",
   "execution_count": null,
   "id": "2f49c355",
   "metadata": {},
   "outputs": [
    {
     "data": {
      "text/plain": [
       "<Points layer 'pp7_spots' at 0x24221a33e50>"
      ]
     },
     "execution_count": 194,
     "metadata": {},
     "output_type": "execute_result"
    }
   ],
   "source": [
    "# observe the spots\n",
    "viewer = napari.Viewer()\n",
    "viewer.add_image(flo8_focus, name='flo8')\n",
    "viewer.add_image(pp7_focus, name='pp7')\n",
    "viewer.add_image(pp7_log, name='pp7_log')\n",
    "viewer.add_image(flo8_log, name='flo8_log')\n",
    "viewer.add_points(spots1, name='flo8_spots')\n",
    "viewer.add_points(spots2, name='pp7_spots')"
   ]
  },
  {
   "cell_type": "markdown",
   "id": "44243595",
   "metadata": {},
   "source": [
    "# Filter out spots visually through a GUI bar in the NAPARI; creator:Sander van Otterdjik"
   ]
  },
  {
   "cell_type": "code",
   "execution_count": null,
   "id": "5bb12edc",
   "metadata": {},
   "outputs": [
    {
     "data": {
      "text/plain": [
       "<napari._qt.widgets.qt_viewer_dock_widget.QtViewerDockWidget at 0x242069e9120>"
      ]
     },
     "execution_count": 195,
     "metadata": {},
     "output_type": "execute_result"
    }
   ],
   "source": [
    "# napari has to be open from the previous cell with the spots and layer inside. On the top right side we can filter out spots based on channels (either LoG or raw)\n",
    "from magicgui import magic_factory, magicgui\n",
    "from napari.layers import Image, Points\n",
    "\n",
    "@magicgui(auto_call=False,intensity_threshold={\"widget_type\": \"Slider\", 'max': 20000}) #4000 for pp7 and 2180 for flo8\n",
    "def filter_spots(points: Points, intensity_image : Image, intensity_threshold: int,viewer: napari.Viewer):\n",
    "    \"\"\"filter all the spots based on RF class probability and intensity\"\"\"\n",
    "    #extract spots from layer\n",
    "    spots = points.data \n",
    "    \n",
    "    #filter spots\n",
    "    filtered_spots = []\n",
    "    for spot in spots:\n",
    "        z,y,x = spot\n",
    "        intensity = intensity_image.data[z,y,x]\n",
    "    \n",
    "        if float(intensity) > float(intensity_threshold) :  # filter spots based on intensity\n",
    "            \n",
    "            filtered_spots.append([z,y,x])\n",
    "        \n",
    "    filtered_spots_array = np.array(filtered_spots)\n",
    "    \n",
    "    np.save('filtered_spots.npy', filtered_spots_array) #save spots for further use, add a preferred path, name\n",
    "    \n",
    "    \n",
    "    \n",
    "    #add new points to viewer \n",
    "    viewer.add_points(filtered_spots, name='filtered_spots') \n",
    "    \n",
    "      \n",
    "viewer.window.add_dock_widget(filter_spots)\n",
    "\n",
    "# rename the spots after saving them each time"
   ]
  },
  {
   "cell_type": "code",
   "execution_count": null,
   "id": "72c5e784",
   "metadata": {},
   "outputs": [],
   "source": [
    "# add the renamed filtered spots\n",
    "filtered_flo8_dir = os.path.join(directory, 'filtered_spotsflo8.npy')\n",
    "filtered_pp7_dir = os.path.join(directory, 'filtered_spotspp7.npy')\n",
    "\n",
    "spots1 = np.load(filtered_flo8_dir)\n",
    "spots2 =  np.load(filtered_pp7_dir)\n",
    "\n"
   ]
  },
  {
   "cell_type": "code",
   "execution_count": null,
   "id": "24963116",
   "metadata": {},
   "outputs": [
    {
     "name": "stdout",
     "output_type": "stream",
     "text": [
      "pp7: 108 flo8 160\n"
     ]
    }
   ],
   "source": [
    "print(\"pp7:\", len(spots2), \"flo8\", len(spots1))\n"
   ]
  },
  {
   "cell_type": "markdown",
   "id": "fb9e1827",
   "metadata": {},
   "source": [
    "#  Colocalisation Analysis"
   ]
  },
  {
   "cell_type": "code",
   "execution_count": null,
   "id": "ac26e010",
   "metadata": {},
   "outputs": [],
   "source": [
    "# This function is used for the calculation of the overlaping percentage\n",
    "def calculate_iou(spots__1, spots__2, colocalized):\n",
    "\n",
    "    # Calculate intersection and union\n",
    "    intersection = colocalized.shape[0]\n",
    "    union = spots__1.shape[0] + spots__2.shape[0]\n",
    "\n",
    "    # Calculate IoU\n",
    "    #iou = intersection / union if union != 0 else 0.0\n",
    "    iou = intersection / min(len(spots__1), len(spots__2))\n",
    "    #max_iou = intersection / max(len(spots__1), len(spots__2))\n",
    "\n",
    "    return iou "
   ]
  },
  {
   "cell_type": "code",
   "execution_count": null,
   "id": "538b3ce4",
   "metadata": {},
   "outputs": [],
   "source": [
    "# Call the colocalization function from fish package\n",
    "(spots_1_colocalized, spots_2_colocalized,\n",
    " distances, \n",
    " indices_1, indices_2, \n",
    " threshold) = multistack.detect_spots_colocalization(\n",
    "    spots_1=spots1.astype(np.int64), \n",
    "    spots_2=spots2.astype(np.int64),\n",
    "    threshold = 100, # give a threshold for x,y,z colocalization or add None for automatic calculation (normally it is not accurate)\n",
    "    voxel_size=(200, 65, 65),\n",
    "    return_indices=True,\n",
    "    return_threshold=True)\n",
    "print(\"colocalized spots\")\n",
    "print(\"\\r shape 1: {0}\".format(spots_1_colocalized.shape))\n",
    "print(\"\\r shape 2: {0}\".format(spots_1_colocalized.shape))\n",
    "print(\"\\r distances: {0}\".format(distances.shape))\n",
    "print(\"\\r indices 1: {0}\".format(spots1.shape))\n",
    "print(\"\\r indices 2: {0}\".format(spots2.shape))\n",
    "print(\"\\r threshold: {0:0.2f} nm\".format(threshold))\n",
    "#viewer.add_points(spots_1_colocalized)\n",
    "#viewer.add_points(spots_2_colocalized)"
   ]
  },
  {
   "cell_type": "code",
   "execution_count": null,
   "id": "bdf3c691",
   "metadata": {},
   "outputs": [
    {
     "data": {
      "image/png": "[encoded data removed]",
      "text/plain": [
       "<Figure size 640x480 with 1 Axes>"
      ]
     },
     "metadata": {},
     "output_type": "display_data"
    }
   ],
   "source": [
    "# Example data (replace these with your actual data)\n",
    "set1_size = spots1.shape[0]\n",
    "set2_size = spots2.shape[0]\n",
    "colocalized_size = spots_1_colocalized.shape[0]\n",
    "set1_size -= colocalized_size\n",
    "set2_size -= colocalized_size\n",
    "iou = calculate_iou(spots1, spots2, spots_2_colocalized)\n",
    "# Create a Venn diagram\n",
    "venn_labels = {'100': set1_size, '010': set2_size, '110': colocalized_size}\n",
    "\n",
    "venn2(subsets=(set1_size, set2_size, colocalized_size), set_labels=('detected FLO8', f'detected PP7 IoU_ratio:{iou:.4f}'))\n",
    "\n",
    "plt.show()"
   ]
  },
  {
   "cell_type": "markdown",
   "id": "01dc80fc",
   "metadata": {},
   "source": [
    "# Cell counts - Single cell expression"
   ]
  },
  {
   "cell_type": "code",
   "execution_count": null,
   "id": "e4c98589",
   "metadata": {},
   "outputs": [],
   "source": [
    "#insert the mask if we want to use segmentation\n",
    "segmentation = io.imread('G:/segmentationmask.tif')\n",
    "\n",
    "#In case the mask has a drift (e.g. if it is based on DIC in the olympus micrscpe) we can translate it with the plugin in src file (github)\n",
    "\n",
    "# from src.translate_plugin import translate\n",
    "# viewer = napari.Viewer()\n",
    "# viewer.window.add_dock_widget(translate())\n",
    "# viewer.add_image(flo8, name='FLO8')"
   ]
  },
  {
   "cell_type": "code",
   "execution_count": null,
   "id": "73bb2e4a",
   "metadata": {},
   "outputs": [
    {
     "ename": "NameError",
     "evalue": "name 'translated_segm' is not defined",
     "output_type": "error",
     "traceback": [
      "\u001b[1;31m---------------------------------------------------------------------------\u001b[0m",
      "\u001b[1;31mNameError\u001b[0m                                 Traceback (most recent call last)",
      "Cell \u001b[1;32mIn[91], line 2\u001b[0m\n\u001b[0;32m      1\u001b[0m \u001b[38;5;66;03m# Labeling and Individual Cell Analysis\u001b[39;00m\n\u001b[1;32m----> 2\u001b[0m labeled_cells \u001b[38;5;241m=\u001b[39m \u001b[43mtranslated_segm\u001b[49m\n\u001b[0;32m      4\u001b[0m \u001b[38;5;66;03m# Regions (cells) are labeled with unique integer values, so with this method we extract cell properties(label, centroid etc.)\u001b[39;00m\n\u001b[0;32m      5\u001b[0m cell_props \u001b[38;5;241m=\u001b[39m regionprops(labeled_cells) \n",
      "\u001b[1;31mNameError\u001b[0m: name 'translated_segm' is not defined"
     ]
    }
   ],
   "source": [
    "#translated_segm =  # add your segmented IDs of your cells\n",
    "# Labeling and Individual Cell Analysis\n",
    "\n",
    "labeled_cells = segmentation \n",
    "\n",
    "# Regions (cells) are labeled with unique integer values, so with this method we extract cell properties(label, centroid etc.)\n",
    "cell_props = regionprops(labeled_cells) "
   ]
  },
  {
   "cell_type": "code",
   "execution_count": null,
   "id": "e7b8faf3",
   "metadata": {},
   "outputs": [],
   "source": [
    "# extracting cell IDs and counts flo8 or the gene in spots1\n",
    "flo8_counts = {}\n",
    "\n",
    "for spot in spots1:\n",
    "    cell_id = labeled_cells[spot[1], spot[2]] #x, y positions of the spot  for a 2d cell mask from cellpose\n",
    "    flo8_counts[cell_id] = flo8_counts.get(cell_id, 0) + 1\n",
    "\n",
    "# Get the maximum cell ID from cell_props\n",
    "max_cell_id = max([cell.label for cell in cell_props])\n",
    "\n",
    "# Fill in counts for cells with no spots\n",
    "for cell_id in range(1, max_cell_id + 1):\n",
    "    if cell_id not in flo8_counts:\n",
    "        flo8_counts[cell_id] = 0\n",
    "\n",
    "# Sort the dictionary based on cell IDs\n",
    "flo8_counts = dict(sorted(flo8_counts.items()))\n",
    "# Exclude id = 0 because its the bg\n",
    "flo8_counts = {k: v for k, v in flo8_counts.items() if k != 0}\n",
    "\n",
    "flo8_counts = dict(sorted(flo8_counts.items()))\n",
    "print(flo8_counts)"
   ]
  },
  {
   "cell_type": "code",
   "execution_count": null,
   "id": "10fa98d6",
   "metadata": {},
   "outputs": [],
   "source": [
    "# extracting cell IDs and counts pp7 or the gene in spots2\n",
    "pp7_counts = {}\n",
    "for spot in spots2:\n",
    "    cell_id = labeled_cells[spot[1], spot[2]]\n",
    "    pp7_counts[cell_id] = pp7_counts.get(cell_id, 0) + 1\n",
    "\n",
    "# Get the maximum cell ID from cell_props\n",
    "max_cell_id = max([cell.label for cell in cell_props])\n",
    "\n",
    "# Fill in counts for cells with no spots\n",
    "for cell_id in range(1, max_cell_id + 1):\n",
    "    if cell_id not in pp7_counts:\n",
    "        pp7_counts[cell_id] = 0\n",
    "\n",
    "#Exclude id = 0, its the bg\n",
    "pp7_counts = {k: v for k, v in pp7_counts.items() if k != 0}\n",
    "\n",
    "pp7_counts = dict(sorted(pp7_counts.items()))\n",
    "print(pp7_counts)"
   ]
  },
  {
   "cell_type": "markdown",
   "id": "ef6ca57f",
   "metadata": {},
   "source": [
    "#  Plot genes percentages across cells"
   ]
  },
  {
   "cell_type": "code",
   "execution_count": null,
   "id": "5cde16c8",
   "metadata": {},
   "outputs": [],
   "source": [
    "# Count the occurrences of each value for both dictionaries\n",
    "value_counts1 = {}\n",
    "for count in flo11_counts.values():\n",
    "    value_counts1[count] = value_counts1.get(count, 0) + 1\n",
    "\n",
    "value_counts2 = {}\n",
    "for count in flo8_counts.values():\n",
    "    value_counts2[count] = value_counts2.get(count, 0) + 1\n",
    "\n",
    "# Calculate percentages based on the total number of counts for both dictionaries\n",
    "total_counts1 = sum(value_counts1.values())\n",
    "percentages1 = [count / total_counts1 * 100 for count in value_counts1.values()]\n",
    "\n",
    "total_counts2 = sum(value_counts2.values())\n",
    "percentages2 = [count / total_counts2 * 100 for count in value_counts2.values()]\n",
    "\n",
    "# histograms\n",
    "plt.bar(list(value_counts1.keys()), percentages1, color='blue', alpha=0.7, width=0.4, align='center', label='FLO11')\n",
    "plt.bar(list(value_counts2.keys()), percentages2, color='orange', alpha=0.7, width=0.4, align='edge', label='FLO8')\n",
    "\n",
    "# Set labels and title\n",
    "plt.xlabel('Count of Cells')\n",
    "plt.ylabel('Percentage of Cells')\n",
    "plt.title('Glucose 2% mRNA counts')\n",
    "total_cells_annotation = f'Total Cells: {total_counts1}'\n",
    "plt.annotate(total_cells_annotation, xy=(0.9, 0.80), xycoords='axes fraction', ha='center', fontsize=10, color='black')\n",
    "\n",
    "# enter the larger value counts for the plot numbers\n",
    "plt.xticks(list(value_counts2.keys()))\n",
    "# Rotate x-axis labels\n",
    "plt.xticks(rotation=45, ha='left')\n",
    "\n",
    "# Set y-axis range from 0 to 100\n",
    "plt.ylim(0, 100)\n",
    "plt.legend()\n",
    "\n",
    "plt.show()"
   ]
  }
 ],
 "metadata": {
  "kernelspec": {
   "display_name": "Python 3 (ipykernel)",
   "language": "python",
   "name": "python3"
  },
  "language_info": {
   "codemirror_mode": {
    "name": "ipython",
    "version": 3
   },
   "file_extension": ".py",
   "mimetype": "text/x-python",
   "name": "python",
   "nbconvert_exporter": "python",
   "pygments_lexer": "ipython3",
   "version": "3.10.9"
  }
 },
 "nbformat": 4,
 "nbformat_minor": 5
}
